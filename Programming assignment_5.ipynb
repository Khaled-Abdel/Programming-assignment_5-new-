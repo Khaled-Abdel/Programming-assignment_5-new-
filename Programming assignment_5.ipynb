{
 "cells": [
  {
   "cell_type": "code",
   "execution_count": 1,
   "metadata": {},
   "outputs": [],
   "source": [
    "#1) Write a Python program to find LCM (least Common Multily)"
   ]
  },
  {
   "cell_type": "code",
   "execution_count": 24,
   "metadata": {},
   "outputs": [],
   "source": [
    "def fun1(a,b):\n",
    "    A= [i*a for i in range(1,11)]\n",
    "    B= [i*b for i in range(1,11)]\n",
    "    C = []\n",
    "    for i in range(len(A)):\n",
    "        if A[i] in B:\n",
    "            C.append(A[i])\n",
    "    return \"The least Common Multily = {}\".format(min(C))\n",
    "        "
   ]
  },
  {
   "cell_type": "code",
   "execution_count": 26,
   "metadata": {},
   "outputs": [
    {
     "data": {
      "text/plain": [
       "'The least Common Multily = 36'"
      ]
     },
     "execution_count": 26,
     "metadata": {},
     "output_type": "execute_result"
    }
   ],
   "source": [
    "fun1(9,12)"
   ]
  },
  {
   "cell_type": "code",
   "execution_count": 36,
   "metadata": {},
   "outputs": [],
   "source": [
    "#2) Write a Python to Find HCF (High Common Factor)"
   ]
  },
  {
   "cell_type": "code",
   "execution_count": 30,
   "metadata": {},
   "outputs": [],
   "source": [
    "def fun2(a,b):\n",
    "    A= [i for i in range(1,a+1) if a%i == 0]\n",
    "    B = [i for i in range(1,b+1) if b%i == 0]\n",
    "    C = []\n",
    "    if len(A) > len(B):\n",
    "        [C.append(B[i]) for i in range(len(B)) if B[i] in A]\n",
    "    else:\n",
    "        [C.append(A[i]) for i in range(len(A)) if A[i] in B]\n",
    "        \n",
    "    return \"The High common Factor = {}\".format(max(C))\n",
    "        \n",
    "    "
   ]
  },
  {
   "cell_type": "code",
   "execution_count": 32,
   "metadata": {},
   "outputs": [
    {
     "data": {
      "text/plain": [
       "'The High common Factor = 3'"
      ]
     },
     "execution_count": 32,
     "metadata": {},
     "output_type": "execute_result"
    }
   ],
   "source": [
    "fun2(9,12)"
   ]
  },
  {
   "cell_type": "code",
   "execution_count": 67,
   "metadata": {},
   "outputs": [],
   "source": [
    "#3) Write a Python Program to Convert Decimal to Binary, Octal and Hexadecimal"
   ]
  },
  {
   "cell_type": "code",
   "execution_count": 6,
   "metadata": {},
   "outputs": [
    {
     "name": "stdout",
     "output_type": "stream",
     "text": [
      "Enter a number to change it to Binary, Octal and hexadecimal: 123\n",
      "from decimal to binary = 1111011\n",
      "from decimal to Octal = 371\n",
      "from decimal to Hexa = 7B\n"
     ]
    }
   ],
   "source": [
    "inp = int(input(\"Enter a number to change it to Binary, Octal and hexadecimal: \"))\n",
    "\n",
    "l = []\n",
    "a = inp\n",
    "\n",
    "#1 to gather all the binaries\n",
    "while a != 0:\n",
    "    r = a%2\n",
    "    l.insert(0,r)\n",
    "    a = a//2\n",
    "    \n",
    "#1 putting everthing together     \n",
    "total = \"\"\n",
    "for i in l:\n",
    "    total = total + str(i)\n",
    "print(\"from decimal to binary = {}\".format(total))\n",
    "\n",
    "#2 to gather all the Octal\n",
    "l = []\n",
    "a = inp\n",
    "while a != 0: r = a%8; l.insert(0,r); a = int(a/8)\n",
    "\n",
    "#2 putting all the Ocal together\n",
    "total= \"\"\n",
    "for i in l: total = str(i) + total\n",
    "print(\"from decimal to Octal = {}\".format(total))\n",
    "\n",
    "#3 Write all the numbers for the hexadecimal\n",
    "hexa_num = ['0','1','2','3','4','5','6','7','8','9','A','B','C','D','E','F']\n",
    "total = \"\"\n",
    "a = inp\n",
    "\n",
    "#Collecting the hexadecimal\n",
    "while a != 0:\n",
    "    r = a%16\n",
    "    total = hexa_num[r] + total\n",
    "    a = a//16\n",
    "print(\"from decimal to Hexa = {}\".format(total))\n",
    "\n",
    "    \n",
    "    \n",
    "\n",
    "\n",
    "\n",
    "\n",
    "    "
   ]
  },
  {
   "cell_type": "code",
   "execution_count": 1,
   "metadata": {},
   "outputs": [
    {
     "name": "stdout",
     "output_type": "stream",
     "text": [
      "Enter a Character to find its value: 1\n",
      "Error please enter a Character\n",
      "Enter a Character to find its value: k\n",
      "the Value of the character k  is =  107\n"
     ]
    }
   ],
   "source": [
    "#4) Write a Python Program To Find ASCII (American Standard Code for Information Interchange) value of a charater?\n",
    "#the ord() function finds its value, while chr() find its character\n",
    "while True:\n",
    "    check = input(\"Enter a Character to find its value: \")\n",
    "    try:\n",
    "        if type(int(check)) == int:\n",
    "            print(\"Error please enter a Character\")\n",
    "    except:\n",
    "        print(\"the Value of the character\",check,\" is = \",ord(check))\n",
    "        break"
   ]
  },
  {
   "cell_type": "code",
   "execution_count": 2,
   "metadata": {},
   "outputs": [
    {
     "name": "stdout",
     "output_type": "stream",
     "text": [
      "Enter the number of operation that you need: 1) addition 2)Subtraction 3) Multiplication 4) Devision: khaled\n",
      "Enter the first number for the operation: 1\n",
      "Enter the second number for the operation: 2\n",
      "the operatin Failed. Try again!!\n",
      "Enter the number of operation that you need: 1) addition 2)Subtraction 3) Multiplication 4) Devision: 4\n",
      "Enter the first number for the operation: 4\n",
      "Enter the second number for the operation: 4\n",
      "4.0 / 4.0 = 1.0\n"
     ]
    }
   ],
   "source": [
    "#5) Write a python program to make a simple calculator with 4 basic mathematical operation\n",
    "l = ['1','2','3','4']\n",
    "while True:\n",
    "    select = input(\"Enter the number of operation that you need: 1) addition 2)Subtraction 3) Multiplication 4) Devision: \")\n",
    "    n1 = float(input(\"Enter the first number for the operation: \"))\n",
    "    n2 = float(input(\"Enter the second number for the operation: \"))\n",
    "    \n",
    "    if select in l:\n",
    "        if select == '1':\n",
    "            print(\"{} + {} = {}\".format(n1,n2,n1+n2))\n",
    "        elif select == '2':\n",
    "            print(\"{} - {} = {}\".format(n1,n2,n1-n2))\n",
    "        elif select == '3':\n",
    "            print(\"{} * {} = {}\".format(n1,n2,n1*n2))\n",
    "        elif select == '4':\n",
    "            print(\"{} / {} = {}\".format(n1,n2,n1/n2))\n",
    "        break\n",
    "    else:\n",
    "        print(\"the operatin Failed. Try again!!\")\n",
    "    \n",
    "    "
   ]
  },
  {
   "cell_type": "code",
   "execution_count": null,
   "metadata": {},
   "outputs": [],
   "source": []
  },
  {
   "cell_type": "code",
   "execution_count": null,
   "metadata": {},
   "outputs": [],
   "source": []
  },
  {
   "cell_type": "code",
   "execution_count": null,
   "metadata": {},
   "outputs": [],
   "source": []
  },
  {
   "cell_type": "code",
   "execution_count": null,
   "metadata": {},
   "outputs": [],
   "source": []
  },
  {
   "cell_type": "code",
   "execution_count": null,
   "metadata": {},
   "outputs": [],
   "source": [
    "\n"
   ]
  },
  {
   "cell_type": "code",
   "execution_count": null,
   "metadata": {},
   "outputs": [],
   "source": []
  },
  {
   "cell_type": "code",
   "execution_count": null,
   "metadata": {},
   "outputs": [],
   "source": []
  },
  {
   "cell_type": "code",
   "execution_count": null,
   "metadata": {},
   "outputs": [],
   "source": []
  }
 ],
 "metadata": {
  "kernelspec": {
   "display_name": "Python 3",
   "language": "python",
   "name": "python3"
  },
  "language_info": {
   "codemirror_mode": {
    "name": "ipython",
    "version": 3
   },
   "file_extension": ".py",
   "mimetype": "text/x-python",
   "name": "python",
   "nbconvert_exporter": "python",
   "pygments_lexer": "ipython3",
   "version": "3.8.5"
  }
 },
 "nbformat": 4,
 "nbformat_minor": 4
}
